{
 "cells": [
  {
   "cell_type": "code",
   "execution_count": 1,
   "metadata": {},
   "outputs": [],
   "source": [
    "#Import Packages\n",
    "import pandas.io.sql\n",
    "import numpy as np\n",
    "import pymssql\n",
    "import pyodbc\n",
    "import datetime\n",
    "from flask import Flask, g, render_template, abort, request\n",
    "import json"
   ]
  },
  {
   "cell_type": "markdown",
   "metadata": {},
   "source": [
    "# Establish Connection with SQL Server"
   ]
  },
  {
   "cell_type": "code",
   "execution_count": 2,
   "metadata": {},
   "outputs": [],
   "source": [
    "#Connection String to SQL Server via pymssql\n",
    "conn = pymssql.connect(host='****', user='****', password='****', database='****')\n",
    "\n",
    "#Alternate Connection String using pyodbc - this has a driver error - not sure why because it works in PyCharm\n",
    "#conn2 = 'Driver={ODBC Driver 17 for SQL Server};Server=129.123.41.19;Database=Melaleuca;Uid=joshdustin;Pwd=bigroupM2k18;'"
   ]
  },
  {
   "cell_type": "code",
   "execution_count": 3,
   "metadata": {},
   "outputs": [],
   "source": [
    "#View all rows from the table Murder Data\n",
    "sqlALL = \"\"\"\n",
    "SELECT *\n",
    "    FROM [Melaleuca].[dbo].[MurderData]\n",
    "\"\"\""
   ]
  },
  {
   "cell_type": "code",
   "execution_count": 4,
   "metadata": {},
   "outputs": [
    {
     "data": {
      "text/html": [
       "<div>\n",
       "<style scoped>\n",
       "    .dataframe tbody tr th:only-of-type {\n",
       "        vertical-align: middle;\n",
       "    }\n",
       "\n",
       "    .dataframe tbody tr th {\n",
       "        vertical-align: top;\n",
       "    }\n",
       "\n",
       "    .dataframe thead th {\n",
       "        text-align: right;\n",
       "    }\n",
       "</style>\n",
       "<table border=\"1\" class=\"dataframe\">\n",
       "  <thead>\n",
       "    <tr style=\"text-align: right;\">\n",
       "      <th></th>\n",
       "      <th>RecordID</th>\n",
       "      <th>AgencyCode</th>\n",
       "      <th>AgencyName</th>\n",
       "      <th>AgencyType</th>\n",
       "      <th>City</th>\n",
       "      <th>State</th>\n",
       "      <th>Year</th>\n",
       "      <th>Month</th>\n",
       "      <th>Incident</th>\n",
       "      <th>CrimeType</th>\n",
       "      <th>...</th>\n",
       "      <th>Relationship</th>\n",
       "      <th>Weapon</th>\n",
       "      <th>VictimCount</th>\n",
       "      <th>PerpetratorCount</th>\n",
       "      <th>RecordSource</th>\n",
       "      <th>GeneralWeapon</th>\n",
       "      <th>VictimGeneration</th>\n",
       "      <th>PerpGeneration</th>\n",
       "      <th>VictimBirthYear</th>\n",
       "      <th>PerpBirthYear</th>\n",
       "    </tr>\n",
       "  </thead>\n",
       "  <tbody>\n",
       "    <tr>\n",
       "      <th>0</th>\n",
       "      <td>502704.0</td>\n",
       "      <td>CT00015</td>\n",
       "      <td>Bridgeport</td>\n",
       "      <td>Municipal Police</td>\n",
       "      <td>Fairfield</td>\n",
       "      <td>Connecticut</td>\n",
       "      <td>2006.0</td>\n",
       "      <td>September</td>\n",
       "      <td>2.0</td>\n",
       "      <td>Murder or Manslaughter</td>\n",
       "      <td>...</td>\n",
       "      <td>Unknown</td>\n",
       "      <td>Handgun</td>\n",
       "      <td>2.0</td>\n",
       "      <td>0.0</td>\n",
       "      <td>FBI</td>\n",
       "      <td>Gun</td>\n",
       "      <td>GenX</td>\n",
       "      <td>GenX</td>\n",
       "      <td>1968.0</td>\n",
       "      <td>1965.0</td>\n",
       "    </tr>\n",
       "    <tr>\n",
       "      <th>1</th>\n",
       "      <td>502705.0</td>\n",
       "      <td>CT00015</td>\n",
       "      <td>Bridgeport</td>\n",
       "      <td>Municipal Police</td>\n",
       "      <td>Fairfield</td>\n",
       "      <td>Connecticut</td>\n",
       "      <td>2006.0</td>\n",
       "      <td>January</td>\n",
       "      <td>1.0</td>\n",
       "      <td>Murder or Manslaughter</td>\n",
       "      <td>...</td>\n",
       "      <td>Unknown</td>\n",
       "      <td>Firearm</td>\n",
       "      <td>0.0</td>\n",
       "      <td>0.0</td>\n",
       "      <td>FBI</td>\n",
       "      <td>Gun</td>\n",
       "      <td>BabyBoomers</td>\n",
       "      <td>Other</td>\n",
       "      <td>1961.0</td>\n",
       "      <td>NaN</td>\n",
       "    </tr>\n",
       "    <tr>\n",
       "      <th>2</th>\n",
       "      <td>502706.0</td>\n",
       "      <td>CT00015</td>\n",
       "      <td>Bridgeport</td>\n",
       "      <td>Municipal Police</td>\n",
       "      <td>Fairfield</td>\n",
       "      <td>Connecticut</td>\n",
       "      <td>2006.0</td>\n",
       "      <td>January</td>\n",
       "      <td>2.0</td>\n",
       "      <td>Murder or Manslaughter</td>\n",
       "      <td>...</td>\n",
       "      <td>Unknown</td>\n",
       "      <td>Handgun</td>\n",
       "      <td>0.0</td>\n",
       "      <td>0.0</td>\n",
       "      <td>FBI</td>\n",
       "      <td>Gun</td>\n",
       "      <td>GenX</td>\n",
       "      <td>Other</td>\n",
       "      <td>1977.0</td>\n",
       "      <td>NaN</td>\n",
       "    </tr>\n",
       "    <tr>\n",
       "      <th>3</th>\n",
       "      <td>502707.0</td>\n",
       "      <td>CT00015</td>\n",
       "      <td>Bridgeport</td>\n",
       "      <td>Municipal Police</td>\n",
       "      <td>Fairfield</td>\n",
       "      <td>Connecticut</td>\n",
       "      <td>2006.0</td>\n",
       "      <td>February</td>\n",
       "      <td>1.0</td>\n",
       "      <td>Murder or Manslaughter</td>\n",
       "      <td>...</td>\n",
       "      <td>Unknown</td>\n",
       "      <td>Knife</td>\n",
       "      <td>0.0</td>\n",
       "      <td>0.0</td>\n",
       "      <td>FBI</td>\n",
       "      <td>Knife</td>\n",
       "      <td>BabyBoomers</td>\n",
       "      <td>Other</td>\n",
       "      <td>1947.0</td>\n",
       "      <td>NaN</td>\n",
       "    </tr>\n",
       "    <tr>\n",
       "      <th>4</th>\n",
       "      <td>502708.0</td>\n",
       "      <td>CT00015</td>\n",
       "      <td>Bridgeport</td>\n",
       "      <td>Municipal Police</td>\n",
       "      <td>Fairfield</td>\n",
       "      <td>Connecticut</td>\n",
       "      <td>2006.0</td>\n",
       "      <td>March</td>\n",
       "      <td>1.0</td>\n",
       "      <td>Murder or Manslaughter</td>\n",
       "      <td>...</td>\n",
       "      <td>Unknown</td>\n",
       "      <td>Handgun</td>\n",
       "      <td>0.0</td>\n",
       "      <td>0.0</td>\n",
       "      <td>FBI</td>\n",
       "      <td>Gun</td>\n",
       "      <td>Millennials</td>\n",
       "      <td>Other</td>\n",
       "      <td>1986.0</td>\n",
       "      <td>NaN</td>\n",
       "    </tr>\n",
       "  </tbody>\n",
       "</table>\n",
       "<p>5 rows × 29 columns</p>\n",
       "</div>"
      ],
      "text/plain": [
       "   RecordID AgencyCode  AgencyName        AgencyType       City        State  \\\n",
       "0  502704.0    CT00015  Bridgeport  Municipal Police  Fairfield  Connecticut   \n",
       "1  502705.0    CT00015  Bridgeport  Municipal Police  Fairfield  Connecticut   \n",
       "2  502706.0    CT00015  Bridgeport  Municipal Police  Fairfield  Connecticut   \n",
       "3  502707.0    CT00015  Bridgeport  Municipal Police  Fairfield  Connecticut   \n",
       "4  502708.0    CT00015  Bridgeport  Municipal Police  Fairfield  Connecticut   \n",
       "\n",
       "     Year      Month  Incident               CrimeType      ...       \\\n",
       "0  2006.0  September       2.0  Murder or Manslaughter      ...        \n",
       "1  2006.0    January       1.0  Murder or Manslaughter      ...        \n",
       "2  2006.0    January       2.0  Murder or Manslaughter      ...        \n",
       "3  2006.0   February       1.0  Murder or Manslaughter      ...        \n",
       "4  2006.0      March       1.0  Murder or Manslaughter      ...        \n",
       "\n",
       "  Relationship   Weapon  VictimCount PerpetratorCount RecordSource  \\\n",
       "0      Unknown  Handgun          2.0              0.0          FBI   \n",
       "1      Unknown  Firearm          0.0              0.0          FBI   \n",
       "2      Unknown  Handgun          0.0              0.0          FBI   \n",
       "3      Unknown    Knife          0.0              0.0          FBI   \n",
       "4      Unknown  Handgun          0.0              0.0          FBI   \n",
       "\n",
       "  GeneralWeapon  VictimGeneration PerpGeneration VictimBirthYear PerpBirthYear  \n",
       "0           Gun              GenX           GenX          1968.0        1965.0  \n",
       "1           Gun       BabyBoomers          Other          1961.0           NaN  \n",
       "2           Gun              GenX          Other          1977.0           NaN  \n",
       "3         Knife       BabyBoomers          Other          1947.0           NaN  \n",
       "4           Gun       Millennials          Other          1986.0           NaN  \n",
       "\n",
       "[5 rows x 29 columns]"
      ]
     },
     "execution_count": 4,
     "metadata": {},
     "output_type": "execute_result"
    }
   ],
   "source": [
    "#Ready SQL Query and show top five rows\n",
    "df = pandas.io.sql.read_sql(sqlALL, conn)\n",
    "df.head()"
   ]
  },
  {
   "cell_type": "code",
   "execution_count": 5,
   "metadata": {},
   "outputs": [
    {
     "data": {
      "text/html": [
       "<div>\n",
       "<style scoped>\n",
       "    .dataframe tbody tr th:only-of-type {\n",
       "        vertical-align: middle;\n",
       "    }\n",
       "\n",
       "    .dataframe tbody tr th {\n",
       "        vertical-align: top;\n",
       "    }\n",
       "\n",
       "    .dataframe thead th {\n",
       "        text-align: right;\n",
       "    }\n",
       "</style>\n",
       "<table border=\"1\" class=\"dataframe\">\n",
       "  <thead>\n",
       "    <tr style=\"text-align: right;\">\n",
       "      <th></th>\n",
       "      <th>RecordID</th>\n",
       "      <th>AgencyCode</th>\n",
       "      <th>AgencyName</th>\n",
       "      <th>AgencyType</th>\n",
       "      <th>City</th>\n",
       "      <th>State</th>\n",
       "      <th>Year</th>\n",
       "      <th>Month</th>\n",
       "      <th>Incident</th>\n",
       "      <th>CrimeType</th>\n",
       "      <th>...</th>\n",
       "      <th>Relationship</th>\n",
       "      <th>Weapon</th>\n",
       "      <th>VictimCount</th>\n",
       "      <th>PerpetratorCount</th>\n",
       "      <th>RecordSource</th>\n",
       "      <th>GeneralWeapon</th>\n",
       "      <th>VictimGeneration</th>\n",
       "      <th>PerpGeneration</th>\n",
       "      <th>VictimBirthYear</th>\n",
       "      <th>PerpBirthYear</th>\n",
       "    </tr>\n",
       "  </thead>\n",
       "  <tbody>\n",
       "    <tr>\n",
       "      <th>638449</th>\n",
       "      <td>55892.0</td>\n",
       "      <td>MS07501</td>\n",
       "      <td>Vicksburg</td>\n",
       "      <td>Municipal Police</td>\n",
       "      <td>Warren</td>\n",
       "      <td>Mississippi</td>\n",
       "      <td>1982.0</td>\n",
       "      <td>March</td>\n",
       "      <td>2.0</td>\n",
       "      <td>Murder or Manslaughter</td>\n",
       "      <td>...</td>\n",
       "      <td>Husband</td>\n",
       "      <td>Blunt Object</td>\n",
       "      <td>0.0</td>\n",
       "      <td>0.0</td>\n",
       "      <td>FBI</td>\n",
       "      <td>Blunt Object</td>\n",
       "      <td>GreatestGen</td>\n",
       "      <td>GreatestGen</td>\n",
       "      <td>1910.0</td>\n",
       "      <td>1919.0</td>\n",
       "    </tr>\n",
       "    <tr>\n",
       "      <th>638450</th>\n",
       "      <td>55893.0</td>\n",
       "      <td>MS07501</td>\n",
       "      <td>Vicksburg</td>\n",
       "      <td>Municipal Police</td>\n",
       "      <td>Warren</td>\n",
       "      <td>Mississippi</td>\n",
       "      <td>1982.0</td>\n",
       "      <td>May</td>\n",
       "      <td>1.0</td>\n",
       "      <td>Murder or Manslaughter</td>\n",
       "      <td>...</td>\n",
       "      <td>In-Law</td>\n",
       "      <td>Handgun</td>\n",
       "      <td>0.0</td>\n",
       "      <td>0.0</td>\n",
       "      <td>FBI</td>\n",
       "      <td>Gun</td>\n",
       "      <td>BabyBoomers</td>\n",
       "      <td>BabyBoomers</td>\n",
       "      <td>1957.0</td>\n",
       "      <td>1950.0</td>\n",
       "    </tr>\n",
       "    <tr>\n",
       "      <th>638451</th>\n",
       "      <td>55894.0</td>\n",
       "      <td>MS07600</td>\n",
       "      <td>Washington</td>\n",
       "      <td>Sheriff</td>\n",
       "      <td>Washington</td>\n",
       "      <td>Mississippi</td>\n",
       "      <td>1982.0</td>\n",
       "      <td>January</td>\n",
       "      <td>1.0</td>\n",
       "      <td>Murder or Manslaughter</td>\n",
       "      <td>...</td>\n",
       "      <td>Brother</td>\n",
       "      <td>Rifle</td>\n",
       "      <td>0.0</td>\n",
       "      <td>0.0</td>\n",
       "      <td>FBI</td>\n",
       "      <td>Gun</td>\n",
       "      <td>GenX</td>\n",
       "      <td>GenX</td>\n",
       "      <td>1965.0</td>\n",
       "      <td>1966.0</td>\n",
       "    </tr>\n",
       "    <tr>\n",
       "      <th>638452</th>\n",
       "      <td>55895.0</td>\n",
       "      <td>MS07600</td>\n",
       "      <td>Washington</td>\n",
       "      <td>Sheriff</td>\n",
       "      <td>Washington</td>\n",
       "      <td>Mississippi</td>\n",
       "      <td>1982.0</td>\n",
       "      <td>February</td>\n",
       "      <td>1.0</td>\n",
       "      <td>Murder or Manslaughter</td>\n",
       "      <td>...</td>\n",
       "      <td>Brother</td>\n",
       "      <td>Handgun</td>\n",
       "      <td>0.0</td>\n",
       "      <td>0.0</td>\n",
       "      <td>FBI</td>\n",
       "      <td>Gun</td>\n",
       "      <td>Silent</td>\n",
       "      <td>Silent</td>\n",
       "      <td>1945.0</td>\n",
       "      <td>1942.0</td>\n",
       "    </tr>\n",
       "    <tr>\n",
       "      <th>638453</th>\n",
       "      <td>55896.0</td>\n",
       "      <td>MS07600</td>\n",
       "      <td>Washington</td>\n",
       "      <td>Sheriff</td>\n",
       "      <td>Washington</td>\n",
       "      <td>Mississippi</td>\n",
       "      <td>1982.0</td>\n",
       "      <td>March</td>\n",
       "      <td>1.0</td>\n",
       "      <td>Murder or Manslaughter</td>\n",
       "      <td>...</td>\n",
       "      <td>Acquaintance</td>\n",
       "      <td>Handgun</td>\n",
       "      <td>0.0</td>\n",
       "      <td>0.0</td>\n",
       "      <td>FBI</td>\n",
       "      <td>Gun</td>\n",
       "      <td>BabyBoomers</td>\n",
       "      <td>Silent</td>\n",
       "      <td>1963.0</td>\n",
       "      <td>1945.0</td>\n",
       "    </tr>\n",
       "  </tbody>\n",
       "</table>\n",
       "<p>5 rows × 29 columns</p>\n",
       "</div>"
      ],
      "text/plain": [
       "        RecordID AgencyCode  AgencyName        AgencyType        City  \\\n",
       "638449   55892.0    MS07501   Vicksburg  Municipal Police      Warren   \n",
       "638450   55893.0    MS07501   Vicksburg  Municipal Police      Warren   \n",
       "638451   55894.0    MS07600  Washington           Sheriff  Washington   \n",
       "638452   55895.0    MS07600  Washington           Sheriff  Washington   \n",
       "638453   55896.0    MS07600  Washington           Sheriff  Washington   \n",
       "\n",
       "              State    Year     Month  Incident               CrimeType  \\\n",
       "638449  Mississippi  1982.0     March       2.0  Murder or Manslaughter   \n",
       "638450  Mississippi  1982.0       May       1.0  Murder or Manslaughter   \n",
       "638451  Mississippi  1982.0   January       1.0  Murder or Manslaughter   \n",
       "638452  Mississippi  1982.0  February       1.0  Murder or Manslaughter   \n",
       "638453  Mississippi  1982.0     March       1.0  Murder or Manslaughter   \n",
       "\n",
       "            ...       Relationship        Weapon  VictimCount  \\\n",
       "638449      ...            Husband  Blunt Object          0.0   \n",
       "638450      ...             In-Law       Handgun          0.0   \n",
       "638451      ...            Brother         Rifle          0.0   \n",
       "638452      ...            Brother       Handgun          0.0   \n",
       "638453      ...       Acquaintance       Handgun          0.0   \n",
       "\n",
       "       PerpetratorCount RecordSource GeneralWeapon  VictimGeneration  \\\n",
       "638449              0.0          FBI  Blunt Object       GreatestGen   \n",
       "638450              0.0          FBI           Gun       BabyBoomers   \n",
       "638451              0.0          FBI           Gun              GenX   \n",
       "638452              0.0          FBI           Gun            Silent   \n",
       "638453              0.0          FBI           Gun       BabyBoomers   \n",
       "\n",
       "       PerpGeneration VictimBirthYear PerpBirthYear  \n",
       "638449    GreatestGen          1910.0        1919.0  \n",
       "638450    BabyBoomers          1957.0        1950.0  \n",
       "638451           GenX          1965.0        1966.0  \n",
       "638452         Silent          1945.0        1942.0  \n",
       "638453         Silent          1963.0        1945.0  \n",
       "\n",
       "[5 rows x 29 columns]"
      ]
     },
     "execution_count": 5,
     "metadata": {},
     "output_type": "execute_result"
    }
   ],
   "source": [
    "# View the last five records of the dataset\n",
    "df.tail()"
   ]
  },
  {
   "cell_type": "markdown",
   "metadata": {},
   "source": [
    "# Analyze Total Homicide Trends from 2000 to 2014"
   ]
  },
  {
   "cell_type": "code",
   "execution_count": 6,
   "metadata": {},
   "outputs": [],
   "source": [
    "#Select the columns you want to plot on the Age Table\n",
    "HomicidesByYear = \"\"\"\n",
    "SELECT [Year], COUNT([RecordID]) as TotalHomicides\n",
    "    FROM [Melaleuca].[dbo].[MurderData]\n",
    "GROUP BY [YEAR]\n",
    "HAVING [Year] > 1999\n",
    "ORDER BY [Year]\n",
    "\"\"\""
   ]
  },
  {
   "cell_type": "code",
   "execution_count": 7,
   "metadata": {},
   "outputs": [
    {
     "data": {
      "text/html": [
       "<div>\n",
       "<style scoped>\n",
       "    .dataframe tbody tr th:only-of-type {\n",
       "        vertical-align: middle;\n",
       "    }\n",
       "\n",
       "    .dataframe tbody tr th {\n",
       "        vertical-align: top;\n",
       "    }\n",
       "\n",
       "    .dataframe thead th {\n",
       "        text-align: right;\n",
       "    }\n",
       "</style>\n",
       "<table border=\"1\" class=\"dataframe\">\n",
       "  <thead>\n",
       "    <tr style=\"text-align: right;\">\n",
       "      <th></th>\n",
       "      <th>TotalHomicides</th>\n",
       "    </tr>\n",
       "    <tr>\n",
       "      <th>Year</th>\n",
       "      <th></th>\n",
       "    </tr>\n",
       "  </thead>\n",
       "  <tbody>\n",
       "    <tr>\n",
       "      <th>2000.0</th>\n",
       "      <td>14671</td>\n",
       "    </tr>\n",
       "    <tr>\n",
       "      <th>2001.0</th>\n",
       "      <td>15803</td>\n",
       "    </tr>\n",
       "    <tr>\n",
       "      <th>2002.0</th>\n",
       "      <td>16268</td>\n",
       "    </tr>\n",
       "    <tr>\n",
       "      <th>2003.0</th>\n",
       "      <td>16512</td>\n",
       "    </tr>\n",
       "    <tr>\n",
       "      <th>2004.0</th>\n",
       "      <td>16233</td>\n",
       "    </tr>\n",
       "  </tbody>\n",
       "</table>\n",
       "</div>"
      ],
      "text/plain": [
       "        TotalHomicides\n",
       "Year                  \n",
       "2000.0           14671\n",
       "2001.0           15803\n",
       "2002.0           16268\n",
       "2003.0           16512\n",
       "2004.0           16233"
      ]
     },
     "execution_count": 7,
     "metadata": {},
     "output_type": "execute_result"
    }
   ],
   "source": [
    "#View Total Homicides by Year\n",
    "df2 = pandas.io.sql.read_sql(HomicidesByYear, conn, index_col='Year')\n",
    "df2.head()"
   ]
  },
  {
   "cell_type": "code",
   "execution_count": 8,
   "metadata": {},
   "outputs": [
    {
     "data": {
      "text/plain": [
       "TotalHomicides    int64\n",
       "dtype: object"
      ]
     },
     "execution_count": 8,
     "metadata": {},
     "output_type": "execute_result"
    }
   ],
   "source": [
    "#Show the data types\n",
    "df2.dtypes"
   ]
  },
  {
   "cell_type": "code",
   "execution_count": 9,
   "metadata": {},
   "outputs": [
    {
     "data": {
      "text/plain": [
       "<matplotlib.axes._subplots.AxesSubplot at 0x10eecc630>"
      ]
     },
     "execution_count": 9,
     "metadata": {},
     "output_type": "execute_result"
    },
    {
     "data": {
      "image/png": "[encoded data removed]",
      "text/plain": [
       "<Figure size 432x288 with 1 Axes>"
      ]
     },
     "metadata": {},
     "output_type": "display_data"
    }
   ],
   "source": [
    "# Plot Homicides By Year between 2009 and 2014\n",
    "%matplotlib inline\n",
    "df2.plot()"
   ]
  },
  {
   "cell_type": "markdown",
   "metadata": {},
   "source": [
    "# Analyse Total Kills by Generation (1980 - 2014)"
   ]
  },
  {
   "cell_type": "code",
   "execution_count": 10,
   "metadata": {},
   "outputs": [],
   "source": [
    "#SQL Query\n",
    "TotalKillsbyGen = \"\"\"\n",
    "SELECT PerpGeneration, COUNT([RecordID]) as TotalKills\n",
    "\tFROM [Melaleuca].[dbo].[MurderData]\n",
    "GROUP BY PerpGeneration\n",
    "ORDER BY COUNT([RecordID])\n",
    "\"\"\""
   ]
  },
  {
   "cell_type": "code",
   "execution_count": 11,
   "metadata": {},
   "outputs": [
    {
     "data": {
      "text/html": [
       "<div>\n",
       "<style scoped>\n",
       "    .dataframe tbody tr th:only-of-type {\n",
       "        vertical-align: middle;\n",
       "    }\n",
       "\n",
       "    .dataframe tbody tr th {\n",
       "        vertical-align: top;\n",
       "    }\n",
       "\n",
       "    .dataframe thead th {\n",
       "        text-align: right;\n",
       "    }\n",
       "</style>\n",
       "<table border=\"1\" class=\"dataframe\">\n",
       "  <thead>\n",
       "    <tr style=\"text-align: right;\">\n",
       "      <th></th>\n",
       "      <th>TotalKills</th>\n",
       "    </tr>\n",
       "    <tr>\n",
       "      <th>PerpGeneration</th>\n",
       "      <th></th>\n",
       "    </tr>\n",
       "  </thead>\n",
       "  <tbody>\n",
       "    <tr>\n",
       "      <th>Post Millennials</th>\n",
       "      <td>1064</td>\n",
       "    </tr>\n",
       "    <tr>\n",
       "      <th>GreatestGen</th>\n",
       "      <td>10599</td>\n",
       "    </tr>\n",
       "    <tr>\n",
       "      <th>Silent</th>\n",
       "      <td>36096</td>\n",
       "    </tr>\n",
       "    <tr>\n",
       "      <th>Millennials</th>\n",
       "      <td>69182</td>\n",
       "    </tr>\n",
       "    <tr>\n",
       "      <th>BabyBoomers</th>\n",
       "      <td>152112</td>\n",
       "    </tr>\n",
       "  </tbody>\n",
       "</table>\n",
       "</div>"
      ],
      "text/plain": [
       "                  TotalKills\n",
       "PerpGeneration              \n",
       "Post Millennials        1064\n",
       "GreatestGen            10599\n",
       "Silent                 36096\n",
       "Millennials            69182\n",
       "BabyBoomers           152112"
      ]
     },
     "execution_count": 11,
     "metadata": {},
     "output_type": "execute_result"
    }
   ],
   "source": [
    "#View the output\n",
    "df3 = pandas.io.sql.read_sql(TotalKillsbyGen, conn, index_col='PerpGeneration')\n",
    "df3.head()"
   ]
  },
  {
   "cell_type": "code",
   "execution_count": 12,
   "metadata": {},
   "outputs": [
    {
     "data": {
      "text/plain": [
       "<matplotlib.axes._subplots.AxesSubplot at 0x10f5bf198>"
      ]
     },
     "execution_count": 12,
     "metadata": {},
     "output_type": "execute_result"
    },
    {
     "data": {
      "image/png": "[encoded data removed]",
      "text/plain": [
       "<Figure size 432x288 with 1 Axes>"
      ]
     },
     "metadata": {},
     "output_type": "display_data"
    }
   ],
   "source": [
    "# Create bar graph\n",
    "df3['TotalKills'].plot.bar()"
   ]
  },
  {
   "cell_type": "code",
   "execution_count": 13,
   "metadata": {},
   "outputs": [
    {
     "name": "stdout",
     "output_type": "stream",
     "text": [
      "Generation with the most kills\n"
     ]
    },
    {
     "data": {
      "text/html": [
       "<div>\n",
       "<style scoped>\n",
       "    .dataframe tbody tr th:only-of-type {\n",
       "        vertical-align: middle;\n",
       "    }\n",
       "\n",
       "    .dataframe tbody tr th {\n",
       "        vertical-align: top;\n",
       "    }\n",
       "\n",
       "    .dataframe thead th {\n",
       "        text-align: right;\n",
       "    }\n",
       "</style>\n",
       "<table border=\"1\" class=\"dataframe\">\n",
       "  <thead>\n",
       "    <tr style=\"text-align: right;\">\n",
       "      <th></th>\n",
       "      <th>TotalKills</th>\n",
       "    </tr>\n",
       "    <tr>\n",
       "      <th>PerpGeneration</th>\n",
       "      <th></th>\n",
       "    </tr>\n",
       "  </thead>\n",
       "  <tbody>\n",
       "    <tr>\n",
       "      <th>Other</th>\n",
       "      <td>216563</td>\n",
       "    </tr>\n",
       "    <tr>\n",
       "      <th>GenX</th>\n",
       "      <td>152838</td>\n",
       "    </tr>\n",
       "    <tr>\n",
       "      <th>BabyBoomers</th>\n",
       "      <td>152112</td>\n",
       "    </tr>\n",
       "    <tr>\n",
       "      <th>Millennials</th>\n",
       "      <td>69182</td>\n",
       "    </tr>\n",
       "    <tr>\n",
       "      <th>Silent</th>\n",
       "      <td>36096</td>\n",
       "    </tr>\n",
       "    <tr>\n",
       "      <th>GreatestGen</th>\n",
       "      <td>10599</td>\n",
       "    </tr>\n",
       "    <tr>\n",
       "      <th>Post Millennials</th>\n",
       "      <td>1064</td>\n",
       "    </tr>\n",
       "  </tbody>\n",
       "</table>\n",
       "</div>"
      ],
      "text/plain": [
       "                  TotalKills\n",
       "PerpGeneration              \n",
       "Other                 216563\n",
       "GenX                  152838\n",
       "BabyBoomers           152112\n",
       "Millennials            69182\n",
       "Silent                 36096\n",
       "GreatestGen            10599\n",
       "Post Millennials        1064"
      ]
     },
     "execution_count": 13,
     "metadata": {},
     "output_type": "execute_result"
    }
   ],
   "source": [
    "#Show the generation with the most kills during the time period\n",
    "print(\"Generation with the most kills\")\n",
    "df3.sort_values(by='TotalKills', ascending=False)"
   ]
  },
  {
   "cell_type": "code",
   "execution_count": null,
   "metadata": {},
   "outputs": [],
   "source": []
  },
  {
   "cell_type": "markdown",
   "metadata": {},
   "source": [
    "# Analyze Killed by Generation (1980 - 2014)"
   ]
  },
  {
   "cell_type": "code",
   "execution_count": 14,
   "metadata": {},
   "outputs": [],
   "source": [
    "#SQL Query\n",
    "TotalKilledbyGen = \"\"\"\n",
    "SELECT VictimGeneration, COUNT([RecordID]) as TotalKilled\n",
    "\tFROM [Melaleuca].[dbo].[MurderData]\n",
    "GROUP BY VictimGeneration\n",
    "ORDER BY COUNT([RecordID])\n",
    "\"\"\""
   ]
  },
  {
   "cell_type": "code",
   "execution_count": 15,
   "metadata": {},
   "outputs": [
    {
     "data": {
      "text/html": [
       "<div>\n",
       "<style scoped>\n",
       "    .dataframe tbody tr th:only-of-type {\n",
       "        vertical-align: middle;\n",
       "    }\n",
       "\n",
       "    .dataframe tbody tr th {\n",
       "        vertical-align: top;\n",
       "    }\n",
       "\n",
       "    .dataframe thead th {\n",
       "        text-align: right;\n",
       "    }\n",
       "</style>\n",
       "<table border=\"1\" class=\"dataframe\">\n",
       "  <thead>\n",
       "    <tr style=\"text-align: right;\">\n",
       "      <th></th>\n",
       "      <th>TotalKilled</th>\n",
       "    </tr>\n",
       "    <tr>\n",
       "      <th>VictimGeneration</th>\n",
       "      <th></th>\n",
       "    </tr>\n",
       "  </thead>\n",
       "  <tbody>\n",
       "    <tr>\n",
       "      <th>Post Millennials</th>\n",
       "      <td>8850</td>\n",
       "    </tr>\n",
       "    <tr>\n",
       "      <th>Other</th>\n",
       "      <td>17301</td>\n",
       "    </tr>\n",
       "    <tr>\n",
       "      <th>GreatestGen</th>\n",
       "      <td>33043</td>\n",
       "    </tr>\n",
       "    <tr>\n",
       "      <th>Silent</th>\n",
       "      <td>64170</td>\n",
       "    </tr>\n",
       "    <tr>\n",
       "      <th>Millennials</th>\n",
       "      <td>94028</td>\n",
       "    </tr>\n",
       "  </tbody>\n",
       "</table>\n",
       "</div>"
      ],
      "text/plain": [
       "                  TotalKilled\n",
       "VictimGeneration             \n",
       "Post Millennials         8850\n",
       "Other                   17301\n",
       "GreatestGen             33043\n",
       "Silent                  64170\n",
       "Millennials             94028"
      ]
     },
     "execution_count": 15,
     "metadata": {},
     "output_type": "execute_result"
    }
   ],
   "source": [
    "#View the output\n",
    "df4 = pandas.io.sql.read_sql(TotalKilledbyGen, conn, index_col='VictimGeneration')\n",
    "df4.head()"
   ]
  },
  {
   "cell_type": "code",
   "execution_count": 16,
   "metadata": {},
   "outputs": [
    {
     "data": {
      "text/plain": [
       "<matplotlib.axes._subplots.AxesSubplot at 0x10fab94a8>"
      ]
     },
     "execution_count": 16,
     "metadata": {},
     "output_type": "execute_result"
    },
    {
     "data": {
      "image/png": "[encoded data removed]",
      "text/plain": [
       "<Figure size 432x288 with 1 Axes>"
      ]
     },
     "metadata": {},
     "output_type": "display_data"
    }
   ],
   "source": [
    "# Create bar graph\n",
    "df4['TotalKilled'].plot.bar()"
   ]
  },
  {
   "cell_type": "markdown",
   "metadata": {},
   "source": [
    "# Analyze Kills by Month (1980 - 2014)"
   ]
  },
  {
   "cell_type": "code",
   "execution_count": 17,
   "metadata": {},
   "outputs": [],
   "source": [
    "#SQL Query\n",
    "KillsbyMonth = \"\"\"\n",
    "SELECT Month, COUNT([RecordID]) as Homicides\n",
    "\tFROM [Melaleuca].[dbo].[MurderData]\n",
    "GROUP BY Month\n",
    "ORDER BY COUNT([RecordID])\n",
    "\"\"\""
   ]
  },
  {
   "cell_type": "code",
   "execution_count": 18,
   "metadata": {},
   "outputs": [
    {
     "data": {
      "text/html": [
       "<div>\n",
       "<style scoped>\n",
       "    .dataframe tbody tr th:only-of-type {\n",
       "        vertical-align: middle;\n",
       "    }\n",
       "\n",
       "    .dataframe tbody tr th {\n",
       "        vertical-align: top;\n",
       "    }\n",
       "\n",
       "    .dataframe thead th {\n",
       "        text-align: right;\n",
       "    }\n",
       "</style>\n",
       "<table border=\"1\" class=\"dataframe\">\n",
       "  <thead>\n",
       "    <tr style=\"text-align: right;\">\n",
       "      <th></th>\n",
       "      <th>Homicides</th>\n",
       "    </tr>\n",
       "    <tr>\n",
       "      <th>Month</th>\n",
       "      <th></th>\n",
       "    </tr>\n",
       "  </thead>\n",
       "  <tbody>\n",
       "    <tr>\n",
       "      <th>February</th>\n",
       "      <td>46079</td>\n",
       "    </tr>\n",
       "    <tr>\n",
       "      <th>November</th>\n",
       "      <td>50016</td>\n",
       "    </tr>\n",
       "    <tr>\n",
       "      <th>April</th>\n",
       "      <td>51209</td>\n",
       "    </tr>\n",
       "    <tr>\n",
       "      <th>March</th>\n",
       "      <td>51444</td>\n",
       "    </tr>\n",
       "    <tr>\n",
       "      <th>January</th>\n",
       "      <td>52928</td>\n",
       "    </tr>\n",
       "  </tbody>\n",
       "</table>\n",
       "</div>"
      ],
      "text/plain": [
       "          Homicides\n",
       "Month              \n",
       "February      46079\n",
       "November      50016\n",
       "April         51209\n",
       "March         51444\n",
       "January       52928"
      ]
     },
     "execution_count": 18,
     "metadata": {},
     "output_type": "execute_result"
    }
   ],
   "source": [
    "#View the output\n",
    "df5 = pandas.io.sql.read_sql(KillsbyMonth, conn, index_col='Month')\n",
    "df5.head()"
   ]
  },
  {
   "cell_type": "code",
   "execution_count": 19,
   "metadata": {},
   "outputs": [
    {
     "data": {
      "text/plain": [
       "<matplotlib.axes._subplots.AxesSubplot at 0x10fe5d208>"
      ]
     },
     "execution_count": 19,
     "metadata": {},
     "output_type": "execute_result"
    },
    {
     "data": {
      "image/png": "[encoded data removed]",
      "text/plain": [
       "<Figure size 432x288 with 1 Axes>"
      ]
     },
     "metadata": {},
     "output_type": "display_data"
    }
   ],
   "source": [
    "# Create bar graph\n",
    "df5['Homicides'].plot.bar()"
   ]
  },
  {
   "cell_type": "markdown",
   "metadata": {},
   "source": [
    "# Kills by State (1980 - 2014)"
   ]
  },
  {
   "cell_type": "code",
   "execution_count": 20,
   "metadata": {},
   "outputs": [
    {
     "data": {
      "text/html": [
       "<div>\n",
       "<style scoped>\n",
       "    .dataframe tbody tr th:only-of-type {\n",
       "        vertical-align: middle;\n",
       "    }\n",
       "\n",
       "    .dataframe tbody tr th {\n",
       "        vertical-align: top;\n",
       "    }\n",
       "\n",
       "    .dataframe thead th {\n",
       "        text-align: right;\n",
       "    }\n",
       "</style>\n",
       "<table border=\"1\" class=\"dataframe\">\n",
       "  <thead>\n",
       "    <tr style=\"text-align: right;\">\n",
       "      <th></th>\n",
       "      <th>Homicides</th>\n",
       "    </tr>\n",
       "    <tr>\n",
       "      <th>State</th>\n",
       "      <th></th>\n",
       "    </tr>\n",
       "  </thead>\n",
       "  <tbody>\n",
       "    <tr>\n",
       "      <th>California</th>\n",
       "      <td>99783</td>\n",
       "    </tr>\n",
       "    <tr>\n",
       "      <th>Texas</th>\n",
       "      <td>62095</td>\n",
       "    </tr>\n",
       "    <tr>\n",
       "      <th>New York</th>\n",
       "      <td>49268</td>\n",
       "    </tr>\n",
       "    <tr>\n",
       "      <th>Florida</th>\n",
       "      <td>37164</td>\n",
       "    </tr>\n",
       "    <tr>\n",
       "      <th>Michigan</th>\n",
       "      <td>28448</td>\n",
       "    </tr>\n",
       "  </tbody>\n",
       "</table>\n",
       "</div>"
      ],
      "text/plain": [
       "            Homicides\n",
       "State                \n",
       "California      99783\n",
       "Texas           62095\n",
       "New York        49268\n",
       "Florida         37164\n",
       "Michigan        28448"
      ]
     },
     "execution_count": 20,
     "metadata": {},
     "output_type": "execute_result"
    }
   ],
   "source": [
    "#SQL Query\n",
    "KillsbyState = \"\"\"\n",
    "SELECT TOP 10 [State], COUNT([RecordID]) as Homicides\n",
    "\tFROM [Melaleuca].[dbo].[MurderData]\n",
    "GROUP BY [State]\n",
    "ORDER BY COUNT([RecordID]) desc\n",
    "\"\"\"\n",
    "\n",
    "#View the output\n",
    "df6 = pandas.io.sql.read_sql(KillsbyState, conn, index_col='State')\n",
    "df6.head()"
   ]
  },
  {
   "cell_type": "code",
   "execution_count": 21,
   "metadata": {},
   "outputs": [
    {
     "data": {
      "text/plain": [
       "<matplotlib.axes._subplots.AxesSubplot at 0x10fe22710>"
      ]
     },
     "execution_count": 21,
     "metadata": {},
     "output_type": "execute_result"
    },
    {
     "data": {
      "image/png": "[encoded data removed]",
      "text/plain": [
       "<Figure size 432x288 with 1 Axes>"
      ]
     },
     "metadata": {},
     "output_type": "display_data"
    }
   ],
   "source": [
    "# Create bar graph\n",
    "df6['Homicides'].plot.bar()"
   ]
  },
  {
   "cell_type": "markdown",
   "metadata": {},
   "source": [
    "# Analyze Weapon Types (1980 - 2014)"
   ]
  },
  {
   "cell_type": "code",
   "execution_count": 22,
   "metadata": {},
   "outputs": [],
   "source": [
    "#SQL Query\n",
    "WeaponFemale = \"\"\"\n",
    "SELECT [GeneralWeapon], COUNT([RecordID]) as Homicides\n",
    "\tFROM [Melaleuca].[dbo].[MurderData]\n",
    "    WHERE PerpetratorSex = 'Female'\n",
    "GROUP BY [GeneralWeapon]\n",
    "ORDER BY COUNT([RecordID]) desc\n",
    "\"\"\"\n",
    "\n",
    "WeaponMale = \"\"\"\n",
    "SELECT [GeneralWeapon], COUNT([RecordID]) as Homicides\n",
    "\tFROM [Melaleuca].[dbo].[MurderData]\n",
    "    WHERE PerpetratorSex = 'Male'\n",
    "GROUP BY [GeneralWeapon]\n",
    "ORDER BY COUNT([RecordID]) desc\n",
    "\"\"\""
   ]
  },
  {
   "cell_type": "code",
   "execution_count": 23,
   "metadata": {},
   "outputs": [],
   "source": [
    "#Define data for female weapon type\n",
    "df7 = pandas.io.sql.read_sql(WeaponFemale, conn, index_col='GeneralWeapon')\n",
    "\n",
    "#Define data for female weapon type\n",
    "df8 = pandas.io.sql.read_sql(WeaponMale, conn, index_col='GeneralWeapon')"
   ]
  },
  {
   "cell_type": "code",
   "execution_count": 24,
   "metadata": {},
   "outputs": [
    {
     "name": "stdout",
     "output_type": "stream",
     "text": [
      "Female Preferred Weapon Type\n"
     ]
    },
    {
     "data": {
      "text/plain": [
       "<matplotlib.axes._subplots.AxesSubplot at 0x11075d630>"
      ]
     },
     "execution_count": 24,
     "metadata": {},
     "output_type": "execute_result"
    },
    {
     "data": {
      "image/png": "[encoded data removed]",
      "text/plain": [
       "<Figure size 432x288 with 1 Axes>"
      ]
     },
     "metadata": {},
     "output_type": "display_data"
    }
   ],
   "source": [
    "# Create bar chart for female weapon type\n",
    "print('Female Preferred Weapon Type')\n",
    "df7['Homicides'].plot.bar()"
   ]
  },
  {
   "cell_type": "code",
   "execution_count": 25,
   "metadata": {},
   "outputs": [
    {
     "name": "stdout",
     "output_type": "stream",
     "text": [
      "Male Preferred Weapon Type\n"
     ]
    },
    {
     "data": {
      "text/plain": [
       "<matplotlib.axes._subplots.AxesSubplot at 0x110b9f668>"
      ]
     },
     "execution_count": 25,
     "metadata": {},
     "output_type": "execute_result"
    },
    {
     "data": {
      "image/png": "[encoded data removed]",
      "text/plain": [
       "<Figure size 432x288 with 1 Axes>"
      ]
     },
     "metadata": {},
     "output_type": "display_data"
    }
   ],
   "source": [
    "# Create bar chart for male weapon type\n",
    "print('Male Preferred Weapon Type')\n",
    "df8['Homicides'].plot.bar()"
   ]
  },
  {
   "cell_type": "markdown",
   "metadata": {},
   "source": [
    "# Analyze Kills by Sex (1980 - 2014)"
   ]
  },
  {
   "cell_type": "code",
   "execution_count": 26,
   "metadata": {},
   "outputs": [],
   "source": [
    "#SQL Query\n",
    "KillsbySex = \"\"\"\n",
    "SELECT\t[Year],                   \n",
    "\t\t[Male] AS [MaleKills], \n",
    "\t\t[Female] AS [FemaleKills]\n",
    "\tFROM (SELECT [Year], PerpetratorSex, RecordID \n",
    "\t\t\tFROM [Melaleuca].[dbo].[MurderData]) as mur \n",
    "PIVOT (COUNT([RecordID]) FOR PerpetratorSex IN ([Male],[Female])) AS pvt\n",
    "ORDER BY [Year]\n",
    "\"\"\""
   ]
  },
  {
   "cell_type": "code",
   "execution_count": 27,
   "metadata": {},
   "outputs": [
    {
     "data": {
      "text/html": [
       "<div>\n",
       "<style scoped>\n",
       "    .dataframe tbody tr th:only-of-type {\n",
       "        vertical-align: middle;\n",
       "    }\n",
       "\n",
       "    .dataframe tbody tr th {\n",
       "        vertical-align: top;\n",
       "    }\n",
       "\n",
       "    .dataframe thead th {\n",
       "        text-align: right;\n",
       "    }\n",
       "</style>\n",
       "<table border=\"1\" class=\"dataframe\">\n",
       "  <thead>\n",
       "    <tr style=\"text-align: right;\">\n",
       "      <th></th>\n",
       "      <th>MaleKills</th>\n",
       "      <th>FemaleKills</th>\n",
       "    </tr>\n",
       "    <tr>\n",
       "      <th>Year</th>\n",
       "      <th></th>\n",
       "      <th></th>\n",
       "    </tr>\n",
       "  </thead>\n",
       "  <tbody>\n",
       "    <tr>\n",
       "      <th>1980.0</th>\n",
       "      <td>14398</td>\n",
       "      <td>2331</td>\n",
       "    </tr>\n",
       "    <tr>\n",
       "      <th>1981.0</th>\n",
       "      <td>13580</td>\n",
       "      <td>2208</td>\n",
       "    </tr>\n",
       "    <tr>\n",
       "      <th>1982.0</th>\n",
       "      <td>12947</td>\n",
       "      <td>2113</td>\n",
       "    </tr>\n",
       "    <tr>\n",
       "      <th>1983.0</th>\n",
       "      <td>12408</td>\n",
       "      <td>2107</td>\n",
       "    </tr>\n",
       "    <tr>\n",
       "      <th>1984.0</th>\n",
       "      <td>11446</td>\n",
       "      <td>1799</td>\n",
       "    </tr>\n",
       "  </tbody>\n",
       "</table>\n",
       "</div>"
      ],
      "text/plain": [
       "        MaleKills  FemaleKills\n",
       "Year                          \n",
       "1980.0      14398         2331\n",
       "1981.0      13580         2208\n",
       "1982.0      12947         2113\n",
       "1983.0      12408         2107\n",
       "1984.0      11446         1799"
      ]
     },
     "execution_count": 27,
     "metadata": {},
     "output_type": "execute_result"
    }
   ],
   "source": [
    "df9 = pandas.io.sql.read_sql(KillsbySex, conn, index_col='Year')\n",
    "df9.head()"
   ]
  },
  {
   "cell_type": "code",
   "execution_count": 28,
   "metadata": {},
   "outputs": [
    {
     "data": {
      "text/plain": [
       "<matplotlib.axes._subplots.AxesSubplot at 0x111047ba8>"
      ]
     },
     "execution_count": 28,
     "metadata": {},
     "output_type": "execute_result"
    },
    {
     "data": {
      "image/png": "[encoded data removed]",
      "text/plain": [
       "<Figure size 432x288 with 1 Axes>"
      ]
     },
     "metadata": {},
     "output_type": "display_data"
    }
   ],
   "source": [
    "%matplotlib inline\n",
    "df9.plot()"
   ]
  },
  {
   "cell_type": "markdown",
   "metadata": {},
   "source": [
    "# Learn More About the Data"
   ]
  },
  {
   "cell_type": "code",
   "execution_count": 37,
   "metadata": {},
   "outputs": [],
   "source": [
    "#Data 2000 - 2014\n",
    "sql2000 = \"\"\"\n",
    "SELECT *\n",
    "    FROM [Melaleuca].[dbo].[MurderData]\n",
    "    WHERE [Year] > 1999\n",
    "\"\"\""
   ]
  },
  {
   "cell_type": "code",
   "execution_count": 38,
   "metadata": {},
   "outputs": [],
   "source": [
    "df10 = pandas.io.sql.read_sql(sql2000, conn)"
   ]
  },
  {
   "cell_type": "code",
   "execution_count": 39,
   "metadata": {},
   "outputs": [
    {
     "name": "stdout",
     "output_type": "stream",
     "text": [
      "<class 'pandas.core.frame.DataFrame'>\n",
      "RangeIndex: 236022 entries, 0 to 236021\n",
      "Data columns (total 29 columns):\n",
      "RecordID                236022 non-null float64\n",
      "AgencyCode              236022 non-null object\n",
      "AgencyName              236022 non-null object\n",
      "AgencyType              236022 non-null object\n",
      "City                    236022 non-null object\n",
      "State                   236022 non-null object\n",
      "Year                    236022 non-null float64\n",
      "Month                   236022 non-null object\n",
      "Incident                236022 non-null float64\n",
      "CrimeType               236022 non-null object\n",
      "CrimeSolved             236022 non-null object\n",
      "VictimSex               236022 non-null object\n",
      "VictimAge               232647 non-null float64\n",
      "VictimRace              236022 non-null object\n",
      "VictimEthnicity         236022 non-null object\n",
      "PerpetratorSex          236022 non-null object\n",
      "PerpetratorAge          151583 non-null float64\n",
      "PerpetratorRace         236022 non-null object\n",
      "PerpetratorEthnicity    236022 non-null object\n",
      "Relationship            236022 non-null object\n",
      "Weapon                  236022 non-null object\n",
      "VictimCount             236022 non-null float64\n",
      "PerpetratorCount        236022 non-null float64\n",
      "RecordSource            236022 non-null object\n",
      "GeneralWeapon           236022 non-null object\n",
      "VictimGeneration        236022 non-null object\n",
      "PerpGeneration          236022 non-null object\n",
      "VictimBirthYear         232647 non-null float64\n",
      "PerpBirthYear           151583 non-null float64\n",
      "dtypes: float64(9), object(20)\n",
      "memory usage: 52.2+ MB\n"
     ]
    }
   ],
   "source": [
    "# Get general information on the dataset\n",
    "df10.info()"
   ]
  },
  {
   "cell_type": "code",
   "execution_count": 40,
   "metadata": {},
   "outputs": [
    {
     "name": "stdout",
     "output_type": "stream",
     "text": [
      "2018-12-12 16:03:32.133398\n"
     ]
    }
   ],
   "source": [
    "#Define current time\n",
    "now = datetime.datetime.now()\n",
    "print(now)"
   ]
  },
  {
   "cell_type": "code",
   "execution_count": 41,
   "metadata": {},
   "outputs": [],
   "source": [
    "#Find the birth year of the oldest perpetrator in the dataset\n",
    "OldestPerp = df['PerpBirthYear'].min()"
   ]
  },
  {
   "cell_type": "code",
   "execution_count": 42,
   "metadata": {},
   "outputs": [
    {
     "name": "stdout",
     "output_type": "stream",
     "text": [
      "137.0\n"
     ]
    }
   ],
   "source": [
    "#Now show the age of the oldest perpetrator in the dataset\n",
    "print(now.year-OldestPerp)"
   ]
  },
  {
   "cell_type": "code",
   "execution_count": 43,
   "metadata": {},
   "outputs": [
    {
     "data": {
      "text/plain": [
       "array(['GenX', 'Other', 'BabyBoomers', 'Millennials', 'Silent',\n",
       "       'GreatestGen', 'Post Millennials'], dtype=object)"
      ]
     },
     "execution_count": 43,
     "metadata": {},
     "output_type": "execute_result"
    }
   ],
   "source": [
    "#View all unique Perpetrator Generations\n",
    "df['PerpGeneration'].unique()"
   ]
  },
  {
   "cell_type": "code",
   "execution_count": 66,
   "metadata": {},
   "outputs": [
    {
     "name": "stdout",
     "output_type": "stream",
     "text": [
      "GenX\n",
      "Millennials\n",
      "BabyBoomers\n",
      "Post Millennials\n",
      "Silent\n",
      "Other\n",
      "GreatestGen\n"
     ]
    }
   ],
   "source": [
    "#Alternative way to view unique values\n",
    "for x in df['PerpGeneration'].unique():\n",
    "    print(x)"
   ]
  },
  {
   "cell_type": "code",
   "execution_count": 44,
   "metadata": {},
   "outputs": [
    {
     "name": "stdout",
     "output_type": "stream",
     "text": [
      "count          638454\n",
      "unique              7\n",
      "top       BabyBoomers\n",
      "freq           222792\n",
      "Name: VictimGeneration, dtype: object\n"
     ]
    }
   ],
   "source": [
    "# Describe the Victim Generation column. The most common value is Millennials with 30,685 entries.\n",
    "print(df['VictimGeneration'].describe())"
   ]
  },
  {
   "cell_type": "markdown",
   "metadata": {},
   "source": [
    "# Use Flask to Expose Data"
   ]
  },
  {
   "cell_type": "code",
   "execution_count": null,
   "metadata": {},
   "outputs": [
    {
     "name": "stderr",
     "output_type": "stream",
     "text": [
      " * Running on http://127.0.0.1:5000/ (Press CTRL+C to quit)\n"
     ]
    }
   ],
   "source": [
    "app = Flask(__name__)\n",
    "app.config.from_object(__name__)\n",
    "\n",
    "\n",
    "@app.before_request\n",
    "def before_request():\n",
    "    try:\n",
    "        g.sql_conn = pymssql.connect(host='****', user='****', password='****', database='****')\n",
    "    except Exception:\n",
    "        abort(500, \"No database connection could be established.\")\n",
    "\n",
    "\n",
    "@app.teardown_request\n",
    "def teardown_request(exception):\n",
    "    try:\n",
    "        g.sql_conn.close()\n",
    "    except AttributeError:\n",
    "        pass\n",
    "\n",
    "#Home page text\n",
    "@app.route(\"/\")\n",
    "def hello():\n",
    "    return \"Josh Dustin ----- MIS 5400 Python Project ----- U.S. Homicide Data\"\n",
    "\n",
    "#TestGraphic\n",
    "#@app.route(\"/test\")\n",
    "#def testgraphic():\n",
    "#    curs = g.sql_conn.cursor()\n",
    "#    KillsbyState = curs.execute(\"SELECT TOP 10 [State], COUNT([RecordID]) as Homicides FROM [Melaleuca].[dbo].[MurderData] GROUP BY [State] ORDER BY COUNT([RecordID]) desc\")\n",
    "#    df6 = pandas.io.sql.read_sql(KillsbyState, conn, index_col='State')\n",
    "#    return df6['Homicides'].plot.bar()\n",
    "\n",
    "#Show All Data\n",
    "@app.route('/item', methods=['GET'])\n",
    "def get_mel_data():\n",
    "    curs = g.sql_conn.cursor()\n",
    "    curs.execute(\"select TOP 100 * from Melaleuca.dbo.MurderData\")\n",
    "\n",
    "    columns = [column[0] for column in curs.description]\n",
    "    data = []\n",
    "\n",
    "    for row in curs.fetchall():\n",
    "        data.append(dict(zip(columns, row)))\n",
    "\n",
    "    return json.dumps(data, indent=4, sort_keys=True, default=str)\n",
    "\n",
    "\n",
    "# GET Data for single Record ID\n",
    "@app.route('/item/<string:id>', methods=['GET'])\n",
    "def get_singleitem(id):\n",
    "    curs = g.sql_conn.cursor()\n",
    "    curs.execute(\"select * from Melaleuca.dbo.MurderData where RecordID = ?\", id)\n",
    "\n",
    "    columns = [column[0] for column in curs.description]\n",
    "    data = []\n",
    "\n",
    "    for row in curs.fetchall():\n",
    "        data.append(dict(zip(columns, row)))\n",
    "\n",
    "    return json.dumps(data, indent=4, sort_keys=True, default=str)\n",
    "\n",
    "if __name__ == '__main__':\n",
    "    app.run()"
   ]
  },
  {
   "cell_type": "code",
   "execution_count": null,
   "metadata": {},
   "outputs": [],
   "source": []
  },
  {
   "cell_type": "code",
   "execution_count": null,
   "metadata": {},
   "outputs": [],
   "source": []
  },
  {
   "cell_type": "code",
   "execution_count": null,
   "metadata": {},
   "outputs": [],
   "source": []
  },
  {
   "cell_type": "code",
   "execution_count": null,
   "metadata": {},
   "outputs": [],
   "source": []
  },
  {
   "cell_type": "code",
   "execution_count": null,
   "metadata": {},
   "outputs": [],
   "source": []
  },
  {
   "cell_type": "code",
   "execution_count": null,
   "metadata": {},
   "outputs": [],
   "source": []
  },
  {
   "cell_type": "code",
   "execution_count": null,
   "metadata": {},
   "outputs": [],
   "source": []
  },
  {
   "cell_type": "code",
   "execution_count": null,
   "metadata": {},
   "outputs": [],
   "source": []
  }
 ],
 "metadata": {
  "kernelspec": {
   "display_name": "Python 3",
   "language": "python",
   "name": "python3"
  },
  "language_info": {
   "codemirror_mode": {
    "name": "ipython",
    "version": 3
   },
   "file_extension": ".py",
   "mimetype": "text/x-python",
   "name": "python",
   "nbconvert_exporter": "python",
   "pygments_lexer": "ipython3",
   "version": "3.6.5"
  }
 },
 "nbformat": 4,
 "nbformat_minor": 2
}
